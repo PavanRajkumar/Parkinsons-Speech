{
  "nbformat": 4,
  "nbformat_minor": 0,
  "metadata": {
    "colab": {
      "name": "Parkinsons_randomForest.ipynb",
      "provenance": [],
      "collapsed_sections": []
    },
    "kernelspec": {
      "name": "python3",
      "display_name": "Python 3"
    },
    "accelerator": "GPU"
  },
  "cells": [
    {
      "cell_type": "code",
      "metadata": {
        "id": "0LD3Cf9qLGoB",
        "colab_type": "code",
        "colab": {
          "base_uri": "https://localhost:8080/",
          "height": 34
        },
        "outputId": "c8bd233e-a3b8-4d5d-dbe3-740b09061a54"
      },
      "source": [
        "%cd drive/My\\ Drive/ML/Parkinsons"
      ],
      "execution_count": null,
      "outputs": [
        {
          "output_type": "stream",
          "text": [
            "/content/drive/My Drive/ML/Parkinsons\n"
          ],
          "name": "stdout"
        }
      ]
    },
    {
      "cell_type": "code",
      "metadata": {
        "id": "FXP-yDj6LAzy",
        "colab_type": "code",
        "colab": {}
      },
      "source": [
        "import numpy as np\n",
        "import matplotlib as mlt\n",
        "import pandas as pd\n",
        "\n",
        "from sklearn.model_selection import train_test_split\n",
        "from sklearn.ensemble import RandomForestClassifier\n",
        "from sklearn.model_selection import KFold\n",
        "\n",
        "from sklearn.metrics import accuracy_score,f1_score,recall_score, precision_score, confusion_matrix,matthews_corrcoef"
      ],
      "execution_count": null,
      "outputs": []
    },
    {
      "cell_type": "code",
      "metadata": {
        "id": "TdwEPP3FLJql",
        "colab_type": "code",
        "colab": {
          "base_uri": "https://localhost:8080/",
          "height": 34
        },
        "outputId": "dc2d9411-9b45-4c46-9a21-befe34382ef0"
      },
      "source": [
        "data = pd.read_csv('train_data.txt', sep=\",\", header=None)\n",
        "data.columns = [\"Subject id\", \"Jitter (local)\" ,\"Jitter (local, absolute)\" ,\"Jitter (rap)\" ,\"Jitter (ppq5)\", \"Jitter (ddp)\", \"Shimmer (local)\", \"Shimmer (local, dB)\" ,\"Shimmer (apq3)\", \"Shimmer (apq5)\", \"Shimmer (apq11)\", \"Shimmer (dda)\", \"AC\" ,\"NTH\" ,\"HTN\", \"Median pitch\", \"Mean pitch\", \"Standard deviation\", \"Minimum pitch\", \"Maximum pitch\", \"Number of pulses\", \"Number of periods\", \"Mean period\", \"Standard deviation of period\", \"Fraction of locally unvoiced frames\", \"Number of voice breaks\", \"Degree of voice breaks\", \"UPDRS\", \"class information\"]\n",
        "data.shape"
      ],
      "execution_count": null,
      "outputs": [
        {
          "output_type": "execute_result",
          "data": {
            "text/plain": [
              "(1040, 29)"
            ]
          },
          "metadata": {
            "tags": []
          },
          "execution_count": 3
        }
      ]
    },
    {
      "cell_type": "code",
      "metadata": {
        "id": "2biy2DO-LM92",
        "colab_type": "code",
        "colab": {
          "base_uri": "https://localhost:8080/",
          "height": 34
        },
        "outputId": "2f6ee8b4-d5e3-4369-bde6-5fd6c393a1de"
      },
      "source": [
        "y_updrs = data.UPDRS # for regression\n",
        "y_class_info = data[\"class information\"]#for classification\n",
        "data_x = data.drop(labels=['UPDRS', \"Subject id\", \"class information\"], axis=1, inplace = False)\n",
        "print(data_x.shape, y_updrs.shape, y_class_info.shape)"
      ],
      "execution_count": null,
      "outputs": [
        {
          "output_type": "stream",
          "text": [
            "(1040, 26) (1040,) (1040,)\n"
          ],
          "name": "stdout"
        }
      ]
    },
    {
      "cell_type": "code",
      "metadata": {
        "id": "mootYzVmND_N",
        "colab_type": "code",
        "colab": {
          "base_uri": "https://localhost:8080/",
          "height": 1000
        },
        "outputId": "a9ccba84-45eb-4128-86fc-288fcb0d7d4e"
      },
      "source": [
        "total_folds = 10\n",
        "kfold = KFold(n_splits= total_folds, shuffle=True, random_state=40)\n",
        "\n",
        "acc_per_fold = []\n",
        "fold=0\n",
        "\n",
        "for train_index, test_index in kfold.split(data_x, y_class_info):\n",
        "    fold+=1\n",
        "    X_train, X_test, y_train, y_test =  data_x.iloc[train_index], data_x.iloc[test_index], y_class_info.iloc[train_index], y_class_info.iloc[test_index]\n",
        "\n",
        "    clf = RandomForestClassifier(min_samples_split=2, \n",
        "                             bootstrap= True,\n",
        "                             oob_score = True,  \n",
        "                             random_state=0,\n",
        "                             min_samples_leaf= 1,\n",
        "                             n_estimators = 400,\n",
        "                             max_depth= 70)\n",
        "\n",
        "    clf.fit(X_train, y_train)\n",
        "\n",
        "    y_pred = clf.predict(X_test)\n",
        "    \n",
        "    print(\"\\nFold : \",fold,\"\\n\")\n",
        "    tn, fp, fn, tp = confusion_matrix(y_test, y_pred).ravel()\n",
        "\n",
        "    print(\"Average Accuracy : \" ,(tp+tn)/(tp+tn+fp+fn))\n",
        "    print(\"Sensitivity: \",(tp)/(tp+fn))\n",
        "    print(\"Specificity: \",(tn)/(tn+fp))\n",
        "    print(\"MCC: \",matthews_corrcoef(y_test, y_pred))\n",
        "    print(clf.score(X_test, y_test))\n",
        "\n",
        "    acc_per_fold.append(clf.score(X_test, y_test))\n",
        "\n",
        "for i in range(total_folds):\n",
        "    print(\"Fold \", i, \"accuracy\", acc_per_fold[i])\n",
        "\n",
        "print(\"\\nMean Accuracy = \",np.mean(acc_per_fold),'(+/-',np.std(acc_per_fold),')');"
      ],
      "execution_count": null,
      "outputs": [
        {
          "output_type": "stream",
          "text": [
            "\n",
            "Fold :  1 \n",
            "\n",
            "Average Accuracy :  0.75\n",
            "Sensitivity:  0.7321428571428571\n",
            "Specificity:  0.7708333333333334\n",
            "MCC:  0.5014858873767987\n",
            "0.75\n",
            "\n",
            "Fold :  2 \n",
            "\n",
            "Average Accuracy :  0.6634615384615384\n",
            "Sensitivity:  0.7222222222222222\n",
            "Specificity:  0.6\n",
            "MCC:  0.3249414453021936\n",
            "0.6634615384615384\n",
            "\n",
            "Fold :  3 \n",
            "\n",
            "Average Accuracy :  0.6634615384615384\n",
            "Sensitivity:  0.6862745098039216\n",
            "Specificity:  0.6415094339622641\n",
            "MCC:  0.32796599540130766\n",
            "0.6634615384615384\n",
            "\n",
            "Fold :  4 \n",
            "\n",
            "Average Accuracy :  0.7211538461538461\n",
            "Sensitivity:  0.7924528301886793\n",
            "Specificity:  0.6470588235294118\n",
            "MCC:  0.44472490842445617\n",
            "0.7211538461538461\n",
            "\n",
            "Fold :  5 \n",
            "\n",
            "Average Accuracy :  0.7307692307692307\n",
            "Sensitivity:  0.7719298245614035\n",
            "Specificity:  0.6808510638297872\n",
            "MCC:  0.4548227516841419\n",
            "0.7307692307692307\n",
            "\n",
            "Fold :  6 \n",
            "\n",
            "Average Accuracy :  0.6923076923076923\n",
            "Sensitivity:  0.660377358490566\n",
            "Specificity:  0.7254901960784313\n",
            "MCC:  0.38643984639933865\n",
            "0.6923076923076923\n",
            "\n",
            "Fold :  7 \n",
            "\n",
            "Average Accuracy :  0.6634615384615384\n",
            "Sensitivity:  0.66\n",
            "Specificity:  0.6666666666666666\n",
            "MCC:  0.3264853362798571\n",
            "0.6634615384615384\n",
            "\n",
            "Fold :  8 \n",
            "\n",
            "Average Accuracy :  0.7019230769230769\n",
            "Sensitivity:  0.75\n",
            "Specificity:  0.6666666666666666\n",
            "MCC:  0.4117823226152372\n",
            "0.7019230769230769\n",
            "\n",
            "Fold :  9 \n",
            "\n",
            "Average Accuracy :  0.7211538461538461\n",
            "Sensitivity:  0.74\n",
            "Specificity:  0.7037037037037037\n",
            "MCC:  0.4434574068744544\n",
            "0.7211538461538461\n",
            "\n",
            "Fold :  10 \n",
            "\n",
            "Average Accuracy :  0.6442307692307693\n",
            "Sensitivity:  0.6730769230769231\n",
            "Specificity:  0.6153846153846154\n",
            "MCC:  0.2889427981985323\n",
            "0.6442307692307693\n",
            "Fold  0 accuracy 0.75\n",
            "Fold  1 accuracy 0.6634615384615384\n",
            "Fold  2 accuracy 0.6634615384615384\n",
            "Fold  3 accuracy 0.7211538461538461\n",
            "Fold  4 accuracy 0.7307692307692307\n",
            "Fold  5 accuracy 0.6923076923076923\n",
            "Fold  6 accuracy 0.6634615384615384\n",
            "Fold  7 accuracy 0.7019230769230769\n",
            "Fold  8 accuracy 0.7211538461538461\n",
            "Fold  9 accuracy 0.6442307692307693\n",
            "\n",
            "Mean Accuracy =  0.6951923076923077 (+/- 0.03359885617241566 )\n"
          ],
          "name": "stdout"
        }
      ]
    },
    {
      "cell_type": "code",
      "metadata": {
        "id": "qckwEtt3Xshd",
        "colab_type": "code",
        "colab": {
          "base_uri": "https://localhost:8080/",
          "height": 176
        },
        "outputId": "b4b9c17f-4154-49c3-cc75-754d10bcecfb"
      },
      "source": [
        "X_train, X_test, y_train, y_test = train_test_split(data_x, y_class_info, test_size = 0.20, random_state = 42)\n",
        "clf_final = RandomForestClassifier(min_samples_split=2, \n",
        "                             bootstrap= True,\n",
        "                             oob_score = True,  \n",
        "                             random_state=0,\n",
        "                             min_samples_leaf= 1,\n",
        "                             n_estimators = 400,\n",
        "                             max_depth= 70)\n",
        "\n",
        "clf_final.fit(X_train, y_train)\n",
        "\n",
        "y_pred = clf_final.predict(X_test)\n",
        "y_score = clf_final.predict_proba(X_test)[:,1]\n",
        "\n",
        "print(clf_final.score(X_test, y_test))\n",
        "print(\"Accuracy Score = \",accuracy_score(y_test, y_pred, normalize=True))\n",
        "\n",
        "tn, fp, fn, tp = confusion_matrix(y_test, y_pred).ravel()\n",
        "\n",
        "print(\"Average Accuracy : \" ,(tp+tn)/(tp+tn+fp+fn))\n",
        "print(\"Sensitivity: \",(tp)/(tp+fn))\n",
        "print(\"Specificity: \",(tn)/(tn+fp))\n",
        "print(\"MCC: \",matthews_corrcoef(y_test, y_pred))\n",
        "print(\"F-Measure : \", f1_score(y_test, y_pred))\n",
        "print(\"Confusion Matrix = \",confusion_matrix(y_test, y_pred, labels=None, sample_weight=None, normalize=None))"
      ],
      "execution_count": null,
      "outputs": [
        {
          "output_type": "stream",
          "text": [
            "0.7163461538461539\n",
            "Accuracy Score =  0.7163461538461539\n",
            "Average Accuracy :  0.7163461538461539\n",
            "Sensitivity:  0.7941176470588235\n",
            "Specificity:  0.6415094339622641\n",
            "MCC:  0.44014868085732156\n",
            "F-Measure :  0.7330316742081447\n",
            "Confusion Matrix =  [[68 38]\n",
            " [21 81]]\n"
          ],
          "name": "stdout"
        }
      ]
    },
    {
      "cell_type": "code",
      "metadata": {
        "id": "2DnnExin8SOL",
        "colab_type": "code",
        "colab": {
          "base_uri": "https://localhost:8080/",
          "height": 491
        },
        "outputId": "2579c478-b379-4cc8-c570-8544afa0b7c9"
      },
      "source": [
        "import seaborn as sn\n",
        "\n",
        "array = confusion_matrix(y_test, y_pred)\n",
        "df_cm = pd.DataFrame(array, index = [i for i in [\"non - PD\", \"PD\"]],\n",
        "                  columns = [i for i in [\"non-PD\",\"PD\"]])\n",
        "accuracy_thr = accuracy_score(y_test, y_pred)\n",
        "\n",
        "plt.figure(figsize = (10,7))\n",
        "sn.set(font_scale=1.4)\n",
        "sn.heatmap(df_cm,cmap=\"YlGnBu\",annot=True,annot_kws={\"fontsize\":48})\n",
        "plt.savefig(\"RF_Conf_orig_matrix.png\", bbox_inches = \"tight\")"
      ],
      "execution_count": null,
      "outputs": [
        {
          "output_type": "stream",
          "text": [
            "/usr/local/lib/python3.6/dist-packages/statsmodels/tools/_testing.py:19: FutureWarning: pandas.util.testing is deprecated. Use the functions in the public API at pandas.testing instead.\n",
            "  import pandas.util.testing as tm\n"
          ],
          "name": "stderr"
        },
        {
          "output_type": "display_data",
          "data": {
            "image/png": "[encoded data removed]",
            "text/plain": [
              "<Figure size 720x504 with 2 Axes>"
            ]
          },
          "metadata": {
            "tags": [],
            "needs_background": "light"
          }
        }
      ]
    },
    {
      "cell_type": "code",
      "metadata": {
        "id": "v-YSzdBJ4HRG",
        "colab_type": "code",
        "colab": {}
      },
      "source": [
        "X_test.iloc[1].reshape(1,-1).shape"
      ],
      "execution_count": null,
      "outputs": []
    },
    {
      "cell_type": "code",
      "metadata": {
        "id": "_m5fui2XZlBm",
        "colab_type": "code",
        "colab": {
          "base_uri": "https://localhost:8080/",
          "height": 827
        },
        "outputId": "ee08935f-5784-4601-9cca-d9c7b6036a50"
      },
      "source": [
        "interpretation = pd.DataFrame({'Variable':data_x.columns,   'Importance':clf_final.feature_importances_}).sort_values('Importance', ascending=False)\n",
        "interpretation"
      ],
      "execution_count": null,
      "outputs": [
        {
          "output_type": "execute_result",
          "data": {
            "text/html": [
              "<div>\n",
              "<style scoped>\n",
              "    .dataframe tbody tr th:only-of-type {\n",
              "        vertical-align: middle;\n",
              "    }\n",
              "\n",
              "    .dataframe tbody tr th {\n",
              "        vertical-align: top;\n",
              "    }\n",
              "\n",
              "    .dataframe thead th {\n",
              "        text-align: right;\n",
              "    }\n",
              "</style>\n",
              "<table border=\"1\" class=\"dataframe\">\n",
              "  <thead>\n",
              "    <tr style=\"text-align: right;\">\n",
              "      <th></th>\n",
              "      <th>Variable</th>\n",
              "      <th>Importance</th>\n",
              "    </tr>\n",
              "  </thead>\n",
              "  <tbody>\n",
              "    <tr>\n",
              "      <th>18</th>\n",
              "      <td>Maximum pitch</td>\n",
              "      <td>0.054847</td>\n",
              "    </tr>\n",
              "    <tr>\n",
              "      <th>16</th>\n",
              "      <td>Standard deviation</td>\n",
              "      <td>0.054054</td>\n",
              "    </tr>\n",
              "    <tr>\n",
              "      <th>9</th>\n",
              "      <td>Shimmer (apq11)</td>\n",
              "      <td>0.051845</td>\n",
              "    </tr>\n",
              "    <tr>\n",
              "      <th>23</th>\n",
              "      <td>Fraction of locally unvoiced frames</td>\n",
              "      <td>0.045056</td>\n",
              "    </tr>\n",
              "    <tr>\n",
              "      <th>14</th>\n",
              "      <td>Median pitch</td>\n",
              "      <td>0.044240</td>\n",
              "    </tr>\n",
              "    <tr>\n",
              "      <th>4</th>\n",
              "      <td>Jitter (ddp)</td>\n",
              "      <td>0.042611</td>\n",
              "    </tr>\n",
              "    <tr>\n",
              "      <th>2</th>\n",
              "      <td>Jitter (rap)</td>\n",
              "      <td>0.042438</td>\n",
              "    </tr>\n",
              "    <tr>\n",
              "      <th>13</th>\n",
              "      <td>HTN</td>\n",
              "      <td>0.041792</td>\n",
              "    </tr>\n",
              "    <tr>\n",
              "      <th>1</th>\n",
              "      <td>Jitter (local, absolute)</td>\n",
              "      <td>0.041175</td>\n",
              "    </tr>\n",
              "    <tr>\n",
              "      <th>3</th>\n",
              "      <td>Jitter (ppq5)</td>\n",
              "      <td>0.040806</td>\n",
              "    </tr>\n",
              "    <tr>\n",
              "      <th>11</th>\n",
              "      <td>AC</td>\n",
              "      <td>0.039962</td>\n",
              "    </tr>\n",
              "    <tr>\n",
              "      <th>6</th>\n",
              "      <td>Shimmer (local, dB)</td>\n",
              "      <td>0.039035</td>\n",
              "    </tr>\n",
              "    <tr>\n",
              "      <th>8</th>\n",
              "      <td>Shimmer (apq5)</td>\n",
              "      <td>0.038873</td>\n",
              "    </tr>\n",
              "    <tr>\n",
              "      <th>5</th>\n",
              "      <td>Shimmer (local)</td>\n",
              "      <td>0.038316</td>\n",
              "    </tr>\n",
              "    <tr>\n",
              "      <th>21</th>\n",
              "      <td>Mean period</td>\n",
              "      <td>0.037816</td>\n",
              "    </tr>\n",
              "    <tr>\n",
              "      <th>15</th>\n",
              "      <td>Mean pitch</td>\n",
              "      <td>0.037472</td>\n",
              "    </tr>\n",
              "    <tr>\n",
              "      <th>22</th>\n",
              "      <td>Standard deviation of period</td>\n",
              "      <td>0.037177</td>\n",
              "    </tr>\n",
              "    <tr>\n",
              "      <th>17</th>\n",
              "      <td>Minimum pitch</td>\n",
              "      <td>0.035486</td>\n",
              "    </tr>\n",
              "    <tr>\n",
              "      <th>12</th>\n",
              "      <td>NTH</td>\n",
              "      <td>0.035213</td>\n",
              "    </tr>\n",
              "    <tr>\n",
              "      <th>0</th>\n",
              "      <td>Jitter (local)</td>\n",
              "      <td>0.034352</td>\n",
              "    </tr>\n",
              "    <tr>\n",
              "      <th>10</th>\n",
              "      <td>Shimmer (dda)</td>\n",
              "      <td>0.032275</td>\n",
              "    </tr>\n",
              "    <tr>\n",
              "      <th>7</th>\n",
              "      <td>Shimmer (apq3)</td>\n",
              "      <td>0.032017</td>\n",
              "    </tr>\n",
              "    <tr>\n",
              "      <th>20</th>\n",
              "      <td>Number of periods</td>\n",
              "      <td>0.031440</td>\n",
              "    </tr>\n",
              "    <tr>\n",
              "      <th>19</th>\n",
              "      <td>Number of pulses</td>\n",
              "      <td>0.031317</td>\n",
              "    </tr>\n",
              "    <tr>\n",
              "      <th>25</th>\n",
              "      <td>Degree of voice breaks</td>\n",
              "      <td>0.029986</td>\n",
              "    </tr>\n",
              "    <tr>\n",
              "      <th>24</th>\n",
              "      <td>Number of voice breaks</td>\n",
              "      <td>0.010398</td>\n",
              "    </tr>\n",
              "  </tbody>\n",
              "</table>\n",
              "</div>"
            ],
            "text/plain": [
              "                               Variable  Importance\n",
              "18                        Maximum pitch    0.054847\n",
              "16                   Standard deviation    0.054054\n",
              "9                       Shimmer (apq11)    0.051845\n",
              "23  Fraction of locally unvoiced frames    0.045056\n",
              "14                         Median pitch    0.044240\n",
              "4                          Jitter (ddp)    0.042611\n",
              "2                          Jitter (rap)    0.042438\n",
              "13                                  HTN    0.041792\n",
              "1              Jitter (local, absolute)    0.041175\n",
              "3                         Jitter (ppq5)    0.040806\n",
              "11                                   AC    0.039962\n",
              "6                   Shimmer (local, dB)    0.039035\n",
              "8                        Shimmer (apq5)    0.038873\n",
              "5                       Shimmer (local)    0.038316\n",
              "21                          Mean period    0.037816\n",
              "15                           Mean pitch    0.037472\n",
              "22         Standard deviation of period    0.037177\n",
              "17                        Minimum pitch    0.035486\n",
              "12                                  NTH    0.035213\n",
              "0                        Jitter (local)    0.034352\n",
              "10                        Shimmer (dda)    0.032275\n",
              "7                        Shimmer (apq3)    0.032017\n",
              "20                    Number of periods    0.031440\n",
              "19                     Number of pulses    0.031317\n",
              "25               Degree of voice breaks    0.029986\n",
              "24               Number of voice breaks    0.010398"
            ]
          },
          "metadata": {
            "tags": []
          },
          "execution_count": 10
        }
      ]
    },
    {
      "cell_type": "code",
      "metadata": {
        "id": "851_qMvScJzg",
        "colab_type": "code",
        "colab": {
          "base_uri": "https://localhost:8080/",
          "height": 34
        },
        "outputId": "0490aa03-3aa4-40fe-cc15-1fe0bdc84b84"
      },
      "source": [
        "sum(interpretation['Importance'].to_list())"
      ],
      "execution_count": null,
      "outputs": [
        {
          "output_type": "execute_result",
          "data": {
            "text/plain": [
              "1.0000000000000002"
            ]
          },
          "metadata": {
            "tags": []
          },
          "execution_count": 11
        }
      ]
    },
    {
      "cell_type": "code",
      "metadata": {
        "id": "mmEJieB-47z3",
        "colab_type": "code",
        "colab": {
          "base_uri": "https://localhost:8080/",
          "height": 478
        },
        "outputId": "60700429-26fe-4b9a-b082-0856fa943a2a"
      },
      "source": [
        "features = data_x.columns.tolist()\n",
        "features"
      ],
      "execution_count": null,
      "outputs": [
        {
          "output_type": "execute_result",
          "data": {
            "text/plain": [
              "['Jitter (local)',\n",
              " 'Jitter (local, absolute)',\n",
              " 'Jitter (rap)',\n",
              " 'Jitter (ppq5)',\n",
              " 'Jitter (ddp)',\n",
              " 'Shimmer (local)',\n",
              " 'Shimmer (local, dB)',\n",
              " 'Shimmer (apq3)',\n",
              " 'Shimmer (apq5)',\n",
              " 'Shimmer (apq11)',\n",
              " 'Shimmer (dda)',\n",
              " 'AC',\n",
              " 'NTH',\n",
              " 'HTN',\n",
              " 'Median pitch',\n",
              " 'Mean pitch',\n",
              " 'Standard deviation',\n",
              " 'Minimum pitch',\n",
              " 'Maximum pitch',\n",
              " 'Number of pulses',\n",
              " 'Number of periods',\n",
              " 'Mean period',\n",
              " 'Standard deviation of period',\n",
              " 'Fraction of locally unvoiced frames',\n",
              " 'Number of voice breaks',\n",
              " 'Degree of voice breaks']"
            ]
          },
          "metadata": {
            "tags": []
          },
          "execution_count": 13
        }
      ]
    },
    {
      "cell_type": "code",
      "metadata": {
        "id": "PwAHl7v246Y9",
        "colab_type": "code",
        "colab": {
          "base_uri": "https://localhost:8080/",
          "height": 478
        },
        "outputId": "1ade3e5e-3407-45bf-b09c-ac64213449ba"
      },
      "source": [
        "importance = clf_final.feature_importances_\n",
        "\n",
        "for i,v in zip(features, importance):\n",
        "\tprint('%s, Score: %.5f' % (i,v))"
      ],
      "execution_count": null,
      "outputs": [
        {
          "output_type": "stream",
          "text": [
            "Jitter (local), Score: 0.03435\n",
            "Jitter (local, absolute), Score: 0.04118\n",
            "Jitter (rap), Score: 0.04244\n",
            "Jitter (ppq5), Score: 0.04081\n",
            "Jitter (ddp), Score: 0.04261\n",
            "Shimmer (local), Score: 0.03832\n",
            "Shimmer (local, dB), Score: 0.03904\n",
            "Shimmer (apq3), Score: 0.03202\n",
            "Shimmer (apq5), Score: 0.03887\n",
            "Shimmer (apq11), Score: 0.05185\n",
            "Shimmer (dda), Score: 0.03227\n",
            "AC, Score: 0.03996\n",
            "NTH, Score: 0.03521\n",
            "HTN, Score: 0.04179\n",
            "Median pitch, Score: 0.04424\n",
            "Mean pitch, Score: 0.03747\n",
            "Standard deviation, Score: 0.05405\n",
            "Minimum pitch, Score: 0.03549\n",
            "Maximum pitch, Score: 0.05485\n",
            "Number of pulses, Score: 0.03132\n",
            "Number of periods, Score: 0.03144\n",
            "Mean period, Score: 0.03782\n",
            "Standard deviation of period, Score: 0.03718\n",
            "Fraction of locally unvoiced frames, Score: 0.04506\n",
            "Number of voice breaks, Score: 0.01040\n",
            "Degree of voice breaks, Score: 0.02999\n"
          ],
          "name": "stdout"
        }
      ]
    },
    {
      "cell_type": "code",
      "metadata": {
        "id": "JkLRdhtItkWu",
        "colab_type": "code",
        "colab": {
          "base_uri": "https://localhost:8080/",
          "height": 34
        },
        "outputId": "b49c7144-8a13-47c6-b067-213dbc09de14"
      },
      "source": [
        "print(len(y_test), len(y_pred), len(y_score))"
      ],
      "execution_count": null,
      "outputs": [
        {
          "output_type": "stream",
          "text": [
            "208 208 208\n"
          ],
          "name": "stdout"
        }
      ]
    },
    {
      "cell_type": "code",
      "metadata": {
        "id": "Hr9ud5jztqCL",
        "colab_type": "code",
        "colab": {}
      },
      "source": [
        "import pandas as pd\n",
        "from numpy import sqrt\n",
        "from numpy import argmax\n",
        "from sklearn.metrics import auc, accuracy_score\n",
        "import matplotlib.pyplot as plt\n",
        "from sklearn.metrics import roc_curve\n",
        "from sklearn.metrics import precision_recall_curve, confusion_matrix"
      ],
      "execution_count": null,
      "outputs": []
    },
    {
      "cell_type": "code",
      "metadata": {
        "id": "DkF4Nbtbtukl",
        "colab_type": "code",
        "colab": {
          "base_uri": "https://localhost:8080/",
          "height": 105
        },
        "outputId": "e9716bd2-4c59-466c-c230-dd126610e487"
      },
      "source": [
        "fpr, tpr, thresholds = roc_curve(y_test, y_score)\n",
        "roc_auc = auc(fpr, tpr)\n",
        "gmeans = sqrt(tpr * (1-fpr))\n",
        "arg_g = argmax(gmeans)\n",
        "print('Best Threshold=%f, G-Mean=%.3f' % (thresholds[arg_g], gmeans[arg_g]))\n",
        "best_threshold = thresholds[arg_g] \n",
        "tn, fp, fn, tp = confusion_matrix(y_test, y_pred).ravel()\n",
        "acc = accuracy_score(y_test, y_pred)\n",
        "# tpr = tp/(tp+fn)\n",
        "# fpr = fp/(fp+tn)\n",
        "# tnr = tn/(fp+tn)\n",
        "# fnr = fn/(tp+fn)\n",
        "\n",
        "print(\"accuracy = \", acc, \"\\nroc_auc = \", roc_auc)\n",
        "\n",
        "\n",
        "i=0\n",
        "roc_table = pd.DataFrame(columns=[\"Threshold\", \"TPR (Sensitivity)\",\n",
        "                                  \"FPR (Fall-out)\", \"Specificity\",\n",
        "                                  \" (LR+)\" ,\"Youden index\",\"Sensitivity + Specificity\",\n",
        "                                  \"G-mean\"], index=[_ for _ in range(len(thresholds))])\n",
        "\n",
        "for fp_rate, tp_rate, thresh in zip(fpr, tpr, thresholds):\n",
        "    spec = 1-fp_rate\n",
        "    lrplus = tp_rate/fp_rate\n",
        "    y_ind = tp_rate - fp_rate\n",
        "    sen_sp = tp_rate + spec\n",
        "    g_mean =  (tp_rate*spec)**(1/2)\n",
        "    roc_table.iloc[i] = [thresh, tp_rate, fp_rate, spec, lrplus, y_ind, sen_sp, g_mean ]\n",
        "    i+=1"
      ],
      "execution_count": null,
      "outputs": [
        {
          "output_type": "stream",
          "text": [
            "Best Threshold=0.440000, G-Mean=0.732\n",
            "accuracy =  0.7163461538461539 \n",
            "roc_auc =  0.8020717721050684\n"
          ],
          "name": "stdout"
        },
        {
          "output_type": "stream",
          "text": [
            "/usr/local/lib/python3.6/dist-packages/ipykernel_launcher.py:25: RuntimeWarning: invalid value encountered in double_scalars\n",
            "/usr/local/lib/python3.6/dist-packages/ipykernel_launcher.py:25: RuntimeWarning: divide by zero encountered in double_scalars\n"
          ],
          "name": "stderr"
        }
      ]
    },
    {
      "cell_type": "code",
      "metadata": {
        "id": "ip26QY_zpQs2",
        "colab_type": "code",
        "colab": {
          "base_uri": "https://localhost:8080/",
          "height": 34
        },
        "outputId": "4098f895-a129-4196-e332-f96ced86c130"
      },
      "source": [
        "%cd ../.."
      ],
      "execution_count": null,
      "outputs": [
        {
          "output_type": "stream",
          "text": [
            "/content\n"
          ],
          "name": "stdout"
        }
      ]
    },
    {
      "cell_type": "code",
      "metadata": {
        "id": "8gOITJoBtyIc",
        "colab_type": "code",
        "colab": {
          "base_uri": "https://localhost:8080/",
          "height": 406
        },
        "outputId": "c2bb478a-186a-4482-bee1-eb926f6c5e08"
      },
      "source": [
        "pd.set_option(\"display.precision\", 4)\n",
        "roc_table.to_csv(\"RF_ROC_Table.csv\")\n",
        "roc_table"
      ],
      "execution_count": null,
      "outputs": [
        {
          "output_type": "execute_result",
          "data": {
            "text/html": [
              "<div>\n",
              "<style scoped>\n",
              "    .dataframe tbody tr th:only-of-type {\n",
              "        vertical-align: middle;\n",
              "    }\n",
              "\n",
              "    .dataframe tbody tr th {\n",
              "        vertical-align: top;\n",
              "    }\n",
              "\n",
              "    .dataframe thead th {\n",
              "        text-align: right;\n",
              "    }\n",
              "</style>\n",
              "<table border=\"1\" class=\"dataframe\">\n",
              "  <thead>\n",
              "    <tr style=\"text-align: right;\">\n",
              "      <th></th>\n",
              "      <th>Threshold</th>\n",
              "      <th>TPR (Sensitivity)</th>\n",
              "      <th>FPR (Fall-out)</th>\n",
              "      <th>Specificity</th>\n",
              "      <th>(LR+)</th>\n",
              "      <th>Youden index</th>\n",
              "      <th>Sensitivity + Specificity</th>\n",
              "      <th>G-mean</th>\n",
              "    </tr>\n",
              "  </thead>\n",
              "  <tbody>\n",
              "    <tr>\n",
              "      <th>0</th>\n",
              "      <td>1.875</td>\n",
              "      <td>0</td>\n",
              "      <td>0</td>\n",
              "      <td>1</td>\n",
              "      <td>NaN</td>\n",
              "      <td>0</td>\n",
              "      <td>1</td>\n",
              "      <td>0</td>\n",
              "    </tr>\n",
              "    <tr>\n",
              "      <th>1</th>\n",
              "      <td>0.875</td>\n",
              "      <td>0.009804</td>\n",
              "      <td>0</td>\n",
              "      <td>1</td>\n",
              "      <td>inf</td>\n",
              "      <td>0.009804</td>\n",
              "      <td>1.01</td>\n",
              "      <td>0.09901</td>\n",
              "    </tr>\n",
              "    <tr>\n",
              "      <th>2</th>\n",
              "      <td>0.8375</td>\n",
              "      <td>0.03922</td>\n",
              "      <td>0</td>\n",
              "      <td>1</td>\n",
              "      <td>inf</td>\n",
              "      <td>0.03922</td>\n",
              "      <td>1.039</td>\n",
              "      <td>0.198</td>\n",
              "    </tr>\n",
              "    <tr>\n",
              "      <th>3</th>\n",
              "      <td>0.8275</td>\n",
              "      <td>0.05882</td>\n",
              "      <td>0</td>\n",
              "      <td>1</td>\n",
              "      <td>inf</td>\n",
              "      <td>0.05882</td>\n",
              "      <td>1.059</td>\n",
              "      <td>0.2425</td>\n",
              "    </tr>\n",
              "    <tr>\n",
              "      <th>4</th>\n",
              "      <td>0.785</td>\n",
              "      <td>0.1275</td>\n",
              "      <td>0</td>\n",
              "      <td>1</td>\n",
              "      <td>inf</td>\n",
              "      <td>0.1275</td>\n",
              "      <td>1.127</td>\n",
              "      <td>0.357</td>\n",
              "    </tr>\n",
              "    <tr>\n",
              "      <th>...</th>\n",
              "      <td>...</td>\n",
              "      <td>...</td>\n",
              "      <td>...</td>\n",
              "      <td>...</td>\n",
              "      <td>...</td>\n",
              "      <td>...</td>\n",
              "      <td>...</td>\n",
              "      <td>...</td>\n",
              "    </tr>\n",
              "    <tr>\n",
              "      <th>93</th>\n",
              "      <td>0.11</td>\n",
              "      <td>1</td>\n",
              "      <td>0.9151</td>\n",
              "      <td>0.08491</td>\n",
              "      <td>1.093</td>\n",
              "      <td>0.08491</td>\n",
              "      <td>1.085</td>\n",
              "      <td>0.2914</td>\n",
              "    </tr>\n",
              "    <tr>\n",
              "      <th>94</th>\n",
              "      <td>0.1075</td>\n",
              "      <td>1</td>\n",
              "      <td>0.934</td>\n",
              "      <td>0.06604</td>\n",
              "      <td>1.071</td>\n",
              "      <td>0.06604</td>\n",
              "      <td>1.066</td>\n",
              "      <td>0.257</td>\n",
              "    </tr>\n",
              "    <tr>\n",
              "      <th>95</th>\n",
              "      <td>0.0825</td>\n",
              "      <td>1</td>\n",
              "      <td>0.9528</td>\n",
              "      <td>0.04717</td>\n",
              "      <td>1.05</td>\n",
              "      <td>0.04717</td>\n",
              "      <td>1.047</td>\n",
              "      <td>0.2172</td>\n",
              "    </tr>\n",
              "    <tr>\n",
              "      <th>96</th>\n",
              "      <td>0.0775</td>\n",
              "      <td>1</td>\n",
              "      <td>0.9717</td>\n",
              "      <td>0.0283</td>\n",
              "      <td>1.029</td>\n",
              "      <td>0.0283</td>\n",
              "      <td>1.028</td>\n",
              "      <td>0.1682</td>\n",
              "    </tr>\n",
              "    <tr>\n",
              "      <th>97</th>\n",
              "      <td>0.0375</td>\n",
              "      <td>1</td>\n",
              "      <td>1</td>\n",
              "      <td>0</td>\n",
              "      <td>1</td>\n",
              "      <td>0</td>\n",
              "      <td>1</td>\n",
              "      <td>0</td>\n",
              "    </tr>\n",
              "  </tbody>\n",
              "</table>\n",
              "<p>98 rows × 8 columns</p>\n",
              "</div>"
            ],
            "text/plain": [
              "   Threshold TPR (Sensitivity)  ... Sensitivity + Specificity   G-mean\n",
              "0      1.875                 0  ...                         1        0\n",
              "1      0.875          0.009804  ...                      1.01  0.09901\n",
              "2     0.8375           0.03922  ...                     1.039    0.198\n",
              "3     0.8275           0.05882  ...                     1.059   0.2425\n",
              "4      0.785            0.1275  ...                     1.127    0.357\n",
              "..       ...               ...  ...                       ...      ...\n",
              "93      0.11                 1  ...                     1.085   0.2914\n",
              "94    0.1075                 1  ...                     1.066    0.257\n",
              "95    0.0825                 1  ...                     1.047   0.2172\n",
              "96    0.0775                 1  ...                     1.028   0.1682\n",
              "97    0.0375                 1  ...                         1        0\n",
              "\n",
              "[98 rows x 8 columns]"
            ]
          },
          "metadata": {
            "tags": []
          },
          "execution_count": 12
        }
      ]
    },
    {
      "cell_type": "code",
      "metadata": {
        "id": "IOcL_UI7t7t7",
        "colab_type": "code",
        "colab": {
          "base_uri": "https://localhost:8080/",
          "height": 457
        },
        "outputId": "ffced8a0-f1f4-4b0e-a0ef-b7c379878df5"
      },
      "source": [
        "plt.subplots(1, figsize=(7,7))\n",
        "plt.title('Receiver Operating Characteristic')\n",
        "plt.plot(fpr, tpr, marker = \".\" ,label = 'AUC = %0.2f' % roc_auc)\n",
        "#plt.legend(loc = 'lower right')\n",
        "plt.plot([0, 1], [0, 1],'--', label = \"No Skill\")\n",
        "\n",
        "plt.scatter(fpr[arg_g], tpr[arg_g], marker='o', color='black', label='Best')\n",
        "# plt.xlim([0, 1])\n",
        "# plt.ylim([0, 1])\n",
        "plt.ylabel('True Positive Rate')\n",
        "plt.xlabel('False Positive Rate')\n",
        "plt.legend([\"ROC\", \"No Skill\"], loc =\"lower right\")\n",
        "\n",
        "plt.savefig(\"RF_ROC.jpg\", bbox_inches=\"tight\")\n",
        "\n",
        "plt.show()"
      ],
      "execution_count": null,
      "outputs": [
        {
          "output_type": "display_data",
          "data": {
            "image/png": "[encoded data removed]",
            "text/plain": [
              "<Figure size 504x504 with 1 Axes>"
            ]
          },
          "metadata": {
            "tags": [],
            "needs_background": "light"
          }
        }
      ]
    },
    {
      "cell_type": "code",
      "metadata": {
        "id": "3NcaxWVyt0Oy",
        "colab_type": "code",
        "colab": {
          "base_uri": "https://localhost:8080/",
          "height": 34
        },
        "outputId": "4106135e-f21f-4742-f026-95adee757380"
      },
      "source": [
        "precision, recall, thresholds = precision_recall_curve(y_test, y_score)\n",
        "\n",
        "fscore_ = (2 * precision * recall) / (precision + recall)\n",
        "# locate the index of the largest f score\n",
        "ix = argmax(fscore_)\n",
        "print('Best Threshold=%f, F-Score=%.3f' % (thresholds[ix], fscore_[ix]))\n",
        "\n",
        "pr_table = pd.DataFrame(columns=[\"Threshold\", \"Precision\",\n",
        "                                  \"Recall\", \"F-Measure\"], \n",
        "                                index=[_ for _ in range(len(thresholds))])\n",
        "\n",
        "i=0\n",
        "for pre, rec, thresh in zip(precision, recall, thresholds):\n",
        "    fscore = (2 * pre * rec) / (pre + rec)\n",
        "    pr_table.iloc[i] = [thresh, pre, rec, fscore]\n",
        "    i+=1"
      ],
      "execution_count": null,
      "outputs": [
        {
          "output_type": "stream",
          "text": [
            "Best Threshold=0.420000, F-Score=0.780\n"
          ],
          "name": "stdout"
        }
      ]
    },
    {
      "cell_type": "code",
      "metadata": {
        "id": "Fv2cac8Zt4Gw",
        "colab_type": "code",
        "colab": {
          "base_uri": "https://localhost:8080/",
          "height": 406
        },
        "outputId": "7f5674cd-39e2-49c9-d100-2e618aea4a3c"
      },
      "source": [
        "pr_table.to_csv(\"RF_PR_Table.csv\")\n",
        "pr_table"
      ],
      "execution_count": null,
      "outputs": [
        {
          "output_type": "execute_result",
          "data": {
            "text/html": [
              "<div>\n",
              "<style scoped>\n",
              "    .dataframe tbody tr th:only-of-type {\n",
              "        vertical-align: middle;\n",
              "    }\n",
              "\n",
              "    .dataframe tbody tr th {\n",
              "        vertical-align: top;\n",
              "    }\n",
              "\n",
              "    .dataframe thead th {\n",
              "        text-align: right;\n",
              "    }\n",
              "</style>\n",
              "<table border=\"1\" class=\"dataframe\">\n",
              "  <thead>\n",
              "    <tr style=\"text-align: right;\">\n",
              "      <th></th>\n",
              "      <th>Threshold</th>\n",
              "      <th>Precision</th>\n",
              "      <th>Recall</th>\n",
              "      <th>F-Measure</th>\n",
              "    </tr>\n",
              "  </thead>\n",
              "  <tbody>\n",
              "    <tr>\n",
              "      <th>0</th>\n",
              "      <td>0.2325</td>\n",
              "      <td>0.5514</td>\n",
              "      <td>1</td>\n",
              "      <td>0.7108</td>\n",
              "    </tr>\n",
              "    <tr>\n",
              "      <th>1</th>\n",
              "      <td>0.2375</td>\n",
              "      <td>0.5489</td>\n",
              "      <td>0.9902</td>\n",
              "      <td>0.7063</td>\n",
              "    </tr>\n",
              "    <tr>\n",
              "      <th>2</th>\n",
              "      <td>0.2425</td>\n",
              "      <td>0.5519</td>\n",
              "      <td>0.9902</td>\n",
              "      <td>0.7088</td>\n",
              "    </tr>\n",
              "    <tr>\n",
              "      <th>3</th>\n",
              "      <td>0.2625</td>\n",
              "      <td>0.5549</td>\n",
              "      <td>0.9902</td>\n",
              "      <td>0.7113</td>\n",
              "    </tr>\n",
              "    <tr>\n",
              "      <th>4</th>\n",
              "      <td>0.265</td>\n",
              "      <td>0.558</td>\n",
              "      <td>0.9902</td>\n",
              "      <td>0.7138</td>\n",
              "    </tr>\n",
              "    <tr>\n",
              "      <th>...</th>\n",
              "      <td>...</td>\n",
              "      <td>...</td>\n",
              "      <td>...</td>\n",
              "      <td>...</td>\n",
              "    </tr>\n",
              "    <tr>\n",
              "      <th>126</th>\n",
              "      <td>0.8275</td>\n",
              "      <td>1</td>\n",
              "      <td>0.05882</td>\n",
              "      <td>0.1111</td>\n",
              "    </tr>\n",
              "    <tr>\n",
              "      <th>127</th>\n",
              "      <td>0.8375</td>\n",
              "      <td>1</td>\n",
              "      <td>0.03922</td>\n",
              "      <td>0.07547</td>\n",
              "    </tr>\n",
              "    <tr>\n",
              "      <th>128</th>\n",
              "      <td>0.84</td>\n",
              "      <td>1</td>\n",
              "      <td>0.02941</td>\n",
              "      <td>0.05714</td>\n",
              "    </tr>\n",
              "    <tr>\n",
              "      <th>129</th>\n",
              "      <td>0.865</td>\n",
              "      <td>1</td>\n",
              "      <td>0.01961</td>\n",
              "      <td>0.03846</td>\n",
              "    </tr>\n",
              "    <tr>\n",
              "      <th>130</th>\n",
              "      <td>0.875</td>\n",
              "      <td>1</td>\n",
              "      <td>0.009804</td>\n",
              "      <td>0.01942</td>\n",
              "    </tr>\n",
              "  </tbody>\n",
              "</table>\n",
              "<p>131 rows × 4 columns</p>\n",
              "</div>"
            ],
            "text/plain": [
              "    Threshold Precision    Recall F-Measure\n",
              "0      0.2325    0.5514         1    0.7108\n",
              "1      0.2375    0.5489    0.9902    0.7063\n",
              "2      0.2425    0.5519    0.9902    0.7088\n",
              "3      0.2625    0.5549    0.9902    0.7113\n",
              "4       0.265     0.558    0.9902    0.7138\n",
              "..        ...       ...       ...       ...\n",
              "126    0.8275         1   0.05882    0.1111\n",
              "127    0.8375         1   0.03922   0.07547\n",
              "128      0.84         1   0.02941   0.05714\n",
              "129     0.865         1   0.01961   0.03846\n",
              "130     0.875         1  0.009804   0.01942\n",
              "\n",
              "[131 rows x 4 columns]"
            ]
          },
          "metadata": {
            "tags": []
          },
          "execution_count": 15
        }
      ]
    },
    {
      "cell_type": "code",
      "metadata": {
        "id": "Y258x3kcuCuo",
        "colab_type": "code",
        "colab": {
          "base_uri": "https://localhost:8080/",
          "height": 475
        },
        "outputId": "aa39362a-311b-4430-ae4a-8e160d28bbe3"
      },
      "source": [
        "plt.subplots(1, figsize=(7,7))\n",
        "plt.title('Precision-Recall Curve')\n",
        "plt.plot(recall, precision)\n",
        "plt.plot([0, 1], [0.725, 0.725], linestyle='--')\n",
        "plt.legend(loc = 'lower right')\n",
        "# plt.xlim([0, 1])\n",
        "# plt.ylim([0, 1])\n",
        "plt.scatter(recall[ix], precision[ix], marker='o', color='black', label='Best')\n",
        "# axis labels\n",
        "plt.ylabel('Precision')\n",
        "plt.xlabel('Recall')\n",
        "plt.legend([\"PR\",\"No Skill\"], loc =\"upper right\")\n",
        "\n",
        "plt.savefig(\"RF_PR.jpg\", bbox_inches=\"tight\")\n",
        "plt.show()"
      ],
      "execution_count": null,
      "outputs": [
        {
          "output_type": "stream",
          "text": [
            "No handles with labels found to put in legend.\n"
          ],
          "name": "stderr"
        },
        {
          "output_type": "display_data",
          "data": {
            "image/png": "[encoded data removed]",
            "text/plain": [
              "<Figure size 504x504 with 1 Axes>"
            ]
          },
          "metadata": {
            "tags": [],
            "needs_background": "light"
          }
        }
      ]
    },
    {
      "cell_type": "code",
      "metadata": {
        "id": "EwB0Y3Y3yPBX",
        "colab_type": "code",
        "colab": {
          "base_uri": "https://localhost:8080/",
          "height": 123
        },
        "outputId": "3e36e47f-7c27-4e5e-9a82-7f6f5809862b"
      },
      "source": [
        "y_pred_thr = [ 1 if _ >= best_threshold else 0 for _ in clf_final.predict_proba(X_test)[:,1]]\n",
        "print(best_threshold)\n",
        "accuracy_thr = accuracy_score(y_test, y_pred_thr)\n",
        "print(\"New accuracy \",accuracy_thr)\n",
        "tn_thr, fp_thr, fn_thr, tp_thr = confusion_matrix(y_test, y_pred_thr).ravel()\n",
        "\n",
        "print(\"Average Accuracy : \" ,(tp_thr+tn_thr)/(tp_thr+tn_thr+fp_thr+fn_thr))\n",
        "print(\"Sensitivity: \",(tp_thr)/(tp_thr+fn_thr))\n",
        "print(\"Specificity: \",(tn_thr)/(tn_thr+fp_thr))\n",
        "print(\"MCC: \",matthews_corrcoef(y_test, y_pred_thr))"
      ],
      "execution_count": null,
      "outputs": [
        {
          "output_type": "stream",
          "text": [
            "0.44\n",
            "New accuracy  0.7451923076923077\n",
            "Average Accuracy :  0.7451923076923077\n",
            "Sensitivity:  0.9019607843137255\n",
            "Specificity:  0.5943396226415094\n",
            "MCC:  0.5198395709010235\n"
          ],
          "name": "stdout"
        }
      ]
    },
    {
      "cell_type": "code",
      "metadata": {
        "id": "0Ft6iZVW1-B7",
        "colab_type": "code",
        "colab": {
          "base_uri": "https://localhost:8080/",
          "height": 435
        },
        "outputId": "dcfba94c-8f83-4c07-92bd-a055f8faa9c0"
      },
      "source": [
        "import seaborn as sn\n",
        "\n",
        "array = confusion_matrix(y_test, y_pred_thr)\n",
        "df_cm = pd.DataFrame(array, index = [i for i in [\"non - PD\", \"PD\"]],\n",
        "                  columns = [i for i in [\"non-PD\",\"PD\"]])\n",
        "accuracy_thr = accuracy_score(y_test, y_pred_thr)\n",
        "\n",
        "plt.figure(figsize = (10,7))\n",
        "sn.set(font_scale=1.4)\n",
        "sn.heatmap(df_cm,cmap=\"YlGnBu\",annot=True,annot_kws={\"fontsize\":48})\n",
        "plt.savefig(\"RF_Conf_matrix.png\", bbox_inches = \"tight\")"
      ],
      "execution_count": null,
      "outputs": [
        {
          "output_type": "display_data",
          "data": {
            "image/png": "[encoded data removed]",
            "text/plain": [
              "<Figure size 720x504 with 2 Axes>"
            ]
          },
          "metadata": {
            "tags": []
          }
        }
      ]
    },
    {
      "cell_type": "code",
      "metadata": {
        "id": "Is5aPkYJ2sns",
        "colab_type": "code",
        "colab": {
          "base_uri": "https://localhost:8080/",
          "height": 591
        },
        "outputId": "9b62155d-3b03-4560-8985-eb8ad08a4b1f"
      },
      "source": [
        "# Calculate feature importances\n",
        "\n",
        "indices = np.argsort(importance)[::-1]\n",
        "indices = indices[:15]\n",
        "# Rearrange feature names so they match the sorted feature importances\n",
        "names = [features[i] for i in indices]\n",
        "\n",
        "# Barplot: Add bars\n",
        "plt.subplots(1, figsize=(14,7))\n",
        "plt.bar(range(len(indices)), importance[indices])  #range(X_test.shape[1])\n",
        "# Add feature names as x-axis labels\n",
        "plt.xticks(range(len(indices)), names, rotation=60, fontsize = 10)   #range(X_test.shape[1]\n",
        "# Create plot title\n",
        "plt.title(\"Feature Importance\")\n",
        "# Show plot\n",
        "plt.show()"
      ],
      "execution_count": null,
      "outputs": [
        {
          "output_type": "display_data",
          "data": {
            "image/png": "[encoded data removed]",
            "text/plain": [
              "<Figure size 1008x504 with 1 Axes>"
            ]
          },
          "metadata": {
            "tags": [],
            "needs_background": "light"
          }
        }
      ]
    },
    {
      "cell_type": "code",
      "metadata": {
        "id": "8FBbuxEFlt_8",
        "colab_type": "code",
        "colab": {}
      },
      "source": [
        ""
      ],
      "execution_count": null,
      "outputs": []
    }
  ]
}